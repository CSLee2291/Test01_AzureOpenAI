{
 "cells": [
  {
   "cell_type": "markdown",
   "id": "ba5af5bf",
   "metadata": {},
   "source": [
    "# Work with latest OpenAI API version\n"
   ]
  },
  {
   "cell_type": "code",
   "execution_count": null,
   "id": "67e09914",
   "metadata": {},
   "outputs": [],
   "source": [
    "#!pip install openai"
   ]
  },
  {
   "cell_type": "code",
   "execution_count": null,
   "id": "693198ad",
   "metadata": {},
   "outputs": [],
   "source": [
    "#!pip install requests"
   ]
  },
  {
   "cell_type": "code",
   "execution_count": null,
   "id": "a1649c0a",
   "metadata": {},
   "outputs": [],
   "source": [
    "#!pip install num2words"
   ]
  },
  {
   "cell_type": "code",
   "execution_count": null,
   "id": "0f7ec28c",
   "metadata": {},
   "outputs": [],
   "source": [
    "#!pip install pandas"
   ]
  },
  {
   "cell_type": "code",
   "execution_count": null,
   "id": "9127e72a",
   "metadata": {},
   "outputs": [],
   "source": [
    "#!pip install openai.embeddings_utils"
   ]
  },
  {
   "cell_type": "code",
   "execution_count": null,
   "id": "16044251",
   "metadata": {},
   "outputs": [],
   "source": [
    "#!pip install tiktoken"
   ]
  },
  {
   "cell_type": "code",
   "execution_count": null,
   "id": "439772df-d315-4a35-b8a1-b7fae22d508a",
   "metadata": {},
   "outputs": [],
   "source": [
    "import openai\n",
    "import os\n",
    "import re\n",
    "import requests\n",
    "import sys\n",
    "from num2words import num2words\n",
    "import os\n",
    "import pandas as pd\n",
    "import numpy as np\n",
    "#from openai.embeddings_utils import get_embedding, cosine_similarity\n",
    "import tiktoken\n",
    "\n",
    "API_KEY = os.getenv(\"AZURE_OPENAI_API_KEY\") \n",
    "RESOURCE_ENDPOINT = os.getenv(\"AZURE_OPENAI_ENDPOINT\") \n",
    "\n",
    "openai.api_type = \"azure\"\n",
    "openai.api_key = API_KEY\n",
    "openai.api_base = RESOURCE_ENDPOINT\n",
    "#openai.api_version = \"2023-05-15\"\n",
    "openai.api_version = \"2023-07-01-preview\"\n",
    "openai.api_key = os.getenv(\"AZURE_OPENAI_KEY\")\n",
    "\n",
    "#print(openai.api_base)\n",
    "#print(openai.api_key)\n",
    "url = openai.api_base  + \"openai/models?api-version=2023-07-01-preview\" \n",
    "\n",
    "r = requests.get(url, headers={\"api-key\": API_KEY})\n",
    "\n",
    "#print(r.text)"
   ]
  },
  {
   "cell_type": "code",
   "execution_count": null,
   "id": "92dc68de-cab3-4a12-963a-424be7af0154",
   "metadata": {},
   "outputs": [],
   "source": [
    "response = openai.chat.completions.create(\n",
    "  model=\"gpt-35-turbo\",\n",
    "  #engine=\"gpt-35-turbo\",\n",
    "  messages = [{\"role\":\"system\",\"content\":\"You are an AI assistant that helps people find information.\"}],\n",
    "  temperature=0.7,\n",
    "  max_tokens=800,\n",
    "  top_p=0.95,\n",
    "  frequency_penalty=0,\n",
    "  presence_penalty=0,\n",
    "  stop=None)\n",
    "\n",
    "print(response.choices[0].message.content)"
   ]
  },
  {
   "cell_type": "code",
   "execution_count": null,
   "id": "e7ad035d-7bfa-411e-ae45-a4147562a202",
   "metadata": {},
   "outputs": [],
   "source": [
    "response = openai.embeddings.create(\n",
    "    input=\"Your text string goes here\",\n",
    "    #engine=\"text-embedding-ada-002\"\n",
    "    model=\"text-embedding-ada-002\"\n",
    ")\n",
    "embeddings = response.data[0].embedding\n",
    "print(embeddings[:5])"
   ]
  },
  {
   "cell_type": "code",
   "execution_count": null,
   "id": "dee35f04-3e40-41d0-8e0e-c44bb8887b32",
   "metadata": {},
   "outputs": [],
   "source": [
    "df=pd.read_csv(os.path.join(os.getcwd(),'bill_sum_data.csv')) # This assumes that you have placed the bill_sum_data.csv in the same directory you are running Jupyter Notebooks\n",
    "df"
   ]
  },
  {
   "cell_type": "code",
   "execution_count": null,
   "id": "c8ca5d54-86b0-4273-adc1-3e404864c5a3",
   "metadata": {},
   "outputs": [],
   "source": [
    "df_CEqa=pd.read_csv(os.path.join(os.getcwd(),'智能Q&A_填寫部門_CE.csv')) # This assumes that you have placed the bill_sum_data.csv in the same directory you are running Jupyter Notebooks\n",
    "df_CEqa"
   ]
  },
  {
   "cell_type": "code",
   "execution_count": null,
   "id": "c072a979-05ec-4111-af0e-27a324c518d6",
   "metadata": {},
   "outputs": [],
   "source": [
    "df_bills = df[['text', 'summary', 'title']]\n",
    "df_bills"
   ]
  },
  {
   "cell_type": "code",
   "execution_count": null,
   "id": "6e883166-fc0f-461b-bd64-956630c499f9",
   "metadata": {},
   "outputs": [],
   "source": [
    "pd.options.mode.chained_assignment = None #https://pandas.pydata.org/pandas-docs/stable/user_guide/indexing.html#evaluation-order-matters\n",
    "\n",
    "# s is input text\n",
    "def normalize_text(s, sep_token = \" \\n \"):\n",
    "    s = re.sub(r'\\s+',  ' ', s).strip()\n",
    "    s = re.sub(r\". ,\",\"\",s)\n",
    "    # remove all instances of multiple spaces\n",
    "    s = s.replace(\"..\",\".\")\n",
    "    s = s.replace(\". .\",\".\")\n",
    "    s = s.replace(\"\\n\", \"\")\n",
    "    s = s.strip()\n",
    "    \n",
    "    return s\n",
    "\n",
    "df_bills['text']= df_bills[\"text\"].apply(lambda x : normalize_text(x))"
   ]
  },
  {
   "cell_type": "code",
   "execution_count": null,
   "id": "5d841249-a882-451c-9bbd-7fa0492b02ca",
   "metadata": {},
   "outputs": [],
   "source": [
    "df_CEqa['Question']=df_CEqa[\"Question\"].apply(lambda x : normalize_text(x))"
   ]
  },
  {
   "cell_type": "code",
   "execution_count": null,
   "id": "20fcde72-4552-4d2e-bbec-2dbb38722f8f",
   "metadata": {},
   "outputs": [],
   "source": [
    "tokenizer = tiktoken.get_encoding(\"cl100k_base\")\n",
    "df_bills['n_tokens'] = df_bills[\"text\"].apply(lambda x: len(tokenizer.encode(x)))\n",
    "df_bills = df_bills[df_bills.n_tokens<8192]\n",
    "len(df_bills)"
   ]
  },
  {
   "cell_type": "code",
   "execution_count": null,
   "id": "e49e6bde-009f-4e58-bed5-85751eee79fd",
   "metadata": {},
   "outputs": [],
   "source": [
    "df_CEqa['n_tokens'] = df_CEqa[\"Question\"].apply(lambda x: len(tokenizer.encode(x)))\n",
    "df_CEqa = df_CEqa[df_CEqa.n_tokens < 8192]\n",
    "len(df_CEqa)"
   ]
  },
  {
   "cell_type": "code",
   "execution_count": null,
   "id": "cc98adf5-7ed7-4d5f-bdce-f0af417e6714",
   "metadata": {},
   "outputs": [],
   "source": [
    "df_bills"
   ]
  },
  {
   "cell_type": "code",
   "execution_count": null,
   "id": "53ef3a68-5281-4564-b19f-3a72f69459d5",
   "metadata": {},
   "outputs": [],
   "source": [
    "df_CEqa"
   ]
  },
  {
   "cell_type": "code",
   "execution_count": null,
   "id": "1f5b7872-98d4-4067-9f86-c8590a7eaf18",
   "metadata": {},
   "outputs": [],
   "source": [
    "sample_encode = tokenizer.encode(df_bills.text[0]) \n",
    "decode = tokenizer.decode_tokens_bytes(sample_encode)\n",
    "#decode"
   ]
  },
  {
   "cell_type": "code",
   "execution_count": null,
   "id": "e3f17b80-2cb3-42b3-85c5-1aa0a5130487",
   "metadata": {},
   "outputs": [],
   "source": [
    "ce_sample_encode = tokenizer.encode(df_CEqa.Question[0])\n",
    "ce_decode = tokenizer.decode_tokens_bytes(ce_sample_encode)\n",
    "ce_decode"
   ]
  },
  {
   "cell_type": "code",
   "execution_count": null,
   "id": "00f89a4b",
   "metadata": {},
   "outputs": [],
   "source": [
    "#from openai.embeddings_utils import get_embedding, cosine_similarity\n",
    "def get_embedding(text, model=\"text-embedding-ada-002\") :\n",
    "\n",
    "    #Convert text to a word embedding\n",
    "    text = text.replace('\\n', ' ')\n",
    "    return openai.embeddings.create(input = [text],model=model).data[0].embedding"
   ]
  },
  {
   "cell_type": "code",
   "execution_count": null,
   "id": "7fa86368-8c4f-431e-8da7-399a31881ca2",
   "metadata": {},
   "outputs": [],
   "source": [
    "df_bills['ada_v2'] = df_bills[\"text\"].apply(lambda x : get_embedding(x,  \"text-embedding-ada-002\"))\n",
    "\n",
    "# engine = 'text-embedding-ada-002')) # engine should be set to the deployment name you chose when you deployed the text-embedding-ada-002 (Version 2) model"
   ]
  },
  {
   "cell_type": "code",
   "execution_count": null,
   "id": "0d5123aa",
   "metadata": {},
   "outputs": [],
   "source": [
    "df_bills"
   ]
  },
  {
   "cell_type": "code",
   "execution_count": null,
   "id": "d5421e3a-cef1-420d-8331-2f59fe236653",
   "metadata": {},
   "outputs": [],
   "source": [
    "# engine should be set to the deployment name you chose when you deployed the text-embedding-ada-002 (Version 2) model\n",
    "df_CEqa['ada_v2'] = df_CEqa[\"Question\"].apply(lambda x : get_embedding(x,  'text-embedding-ada-002'))\n",
    "df_CEqa"
   ]
  },
  {
   "cell_type": "code",
   "execution_count": null,
   "id": "2f910365-a176-4a08-8140-b5febc66bd05",
   "metadata": {},
   "outputs": [],
   "source": [
    "df_bills"
   ]
  },
  {
   "cell_type": "code",
   "execution_count": null,
   "id": "af5b039a",
   "metadata": {},
   "outputs": [],
   "source": [
    "def calculate_cosine_similarity(vector_a, vector_b):\n",
    "\n",
    "    # Compute the dot product of the two vectors\n",
    "    dot_product = np.dot(vector_a, vector_b)\n",
    "\n",
    "    # Compute the L2 norms (magnitudes) of each vector\n",
    "    norm_a = np.linalg.norm(vector_a)\n",
    "    norm_b = np.linalg.norm(vector_b)\n",
    "\n",
    "    # Compute the cosine similarity\n",
    "    # Note: We add a small epsilon value to the denominator for numerical stability\n",
    "    epsilon = 1e-10\n",
    "    cosine_similarity = dot_product / (norm_a * norm_b + epsilon)\n",
    "\n",
    "    return cosine_similarity\n",
    "\n",
    "def cosine_similarity(a, b):\n",
    "    return np.dot(a, b) / (np.linalg.norm(a) * np.linalg.norm(b))"
   ]
  },
  {
   "cell_type": "code",
   "execution_count": null,
   "id": "f5544a6d-fa21-44b2-a796-a58ba8595492",
   "metadata": {},
   "outputs": [],
   "source": [
    "# search through the reviews for a specific product\n",
    "def search_docs(df, user_query, top_n=3, to_print=True):\n",
    "    embedding = get_embedding(\n",
    "        user_query,\n",
    "        \"text-embedding-ada-002\" # engine should be set to the deployment name you chose when you deployed the text-embedding-ada-002 (Version 2) model\n",
    "    )\n",
    "    df[\"similarities\"] = df.ada_v2.apply(lambda x: cosine_similarity(x, embedding))\n",
    "\n",
    "    res = (\n",
    "        df.sort_values(\"similarities\", ascending=False)\n",
    "        .head(top_n)\n",
    "    )\n",
    "    if to_print:\n",
    "        display(res)\n",
    "    return res\n",
    "\n",
    "\n",
    "res = search_docs(df_bills, \"Can I get information on cable company tax revenue?\", top_n=4)"
   ]
  },
  {
   "cell_type": "code",
   "execution_count": null,
   "id": "49b5e065-6d9b-4c0a-8908-91482745428f",
   "metadata": {},
   "outputs": [],
   "source": [
    "# search through the reviews for a specific product\n",
    "def search_docs_CEQA(df, user_query, top_n=3, to_print=True):\n",
    "    embedding = get_embedding(\n",
    "        user_query,\n",
    "        \"text-embedding-ada-002\" # engine should be set to the deployment name you chose when you deployed the text-embedding-ada-002 (Version 2) model\n",
    "    )\n",
    "    df[\"similarities\"] = df.ada_v2.apply(lambda x: cosine_similarity(x, embedding))\n",
    "\n",
    "    res = (\n",
    "        df.sort_values(\"similarities\", ascending=False)\n",
    "        .head(top_n)\n",
    "    )\n",
    "    if to_print:\n",
    "        display(res)\n",
    "    return res\n",
    "\n",
    "\n",
    "res = search_docs (df_CEqa, \"How can I find similar part?\", top_n=4)"
   ]
  },
  {
   "cell_type": "code",
   "execution_count": null,
   "id": "1c648cdd-4212-4fff-b7f2-7b8b493b25e9",
   "metadata": {},
   "outputs": [],
   "source": [
    "print(res[\"CE Response\"][res.index[0]])\n",
    "print(res[\"Type\"][res.index[0]])"
   ]
  },
  {
   "cell_type": "code",
   "execution_count": null,
   "id": "5d4f396a-1be9-4693-96d8-8762cb3e4854",
   "metadata": {},
   "outputs": [],
   "source": []
  }
 ],
 "metadata": {
  "kernelspec": {
   "display_name": "Python 3 (ipykernel)",
   "language": "python",
   "name": "python3"
  },
  "language_info": {
   "codemirror_mode": {
    "name": "ipython",
    "version": 3
   },
   "file_extension": ".py",
   "mimetype": "text/x-python",
   "name": "python",
   "nbconvert_exporter": "python",
   "pygments_lexer": "ipython3",
   "version": "3.11.6"
  }
 },
 "nbformat": 4,
 "nbformat_minor": 5
}
